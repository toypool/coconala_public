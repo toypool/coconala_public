{
 "cells": [
  {
   "cell_type": "markdown",
   "metadata": {},
   "source": [
    "# 20181217_clf_ALL_xgb\n",
    "1. 非死刑判例文(target=0), 死刑判例文(target=1),として辞書型のデータセットを作成</br>\n",
    "2. tf-idfによる特徴量作成\n",
    "3. SVMモデルのハイパーパラメータ調整"
   ]
  },
  {
   "cell_type": "markdown",
   "metadata": {},
   "source": [
    "### 1. 非死刑判例文(target=0), 死刑判例文(target=1),として辞書型のデータセットを作成"
   ]
  },
  {
   "cell_type": "code",
   "execution_count": 1,
   "metadata": {},
   "outputs": [
    {
     "name": "stdout",
     "output_type": "stream",
     "text": [
      "99 99\n",
      "10 89\n",
      "20 125\n",
      "['non_death', 'non_death', 'non_death', 'non_death', 'non_death', 'non_death', 'non_death', 'non_death', 'non_death', 'non_death', 'non_death', 'non_death', 'non_death', 'non_death', 'non_death', 'non_death', 'non_death', 'non_death', 'non_death', 'non_death', 'non_death', 'non_death', 'non_death', 'non_death', 'non_death', 'non_death', 'non_death', 'non_death', 'non_death', 'non_death', 'non_death', 'non_death', 'non_death', 'non_death', 'non_death', 'non_death', 'non_death', 'non_death', 'non_death', 'non_death', 'non_death', 'non_death', 'non_death', 'non_death', 'non_death', 'non_death', 'non_death', 'non_death', 'non_death', 'non_death', 'non_death', 'non_death', 'non_death', 'non_death', 'non_death', 'non_death', 'non_death', 'non_death', 'non_death', 'non_death', 'non_death', 'non_death', 'non_death', 'non_death', 'non_death', 'non_death', 'non_death', 'non_death', 'non_death', 'non_death', 'non_death', 'non_death', 'non_death', 'non_death', 'non_death', 'non_death', 'non_death', 'non_death', 'non_death', 'non_death', 'non_death', 'non_death', 'non_death', 'non_death', 'non_death', 'non_death', 'non_death', 'non_death', 'non_death', 'death', 'death', 'death', 'death', 'death', 'death', 'death', 'death', 'death', 'death', 'death', 'death', 'death', 'death', 'death', 'death', 'death', 'death', 'death', 'death', 'death', 'death', 'death', 'death', 'death', 'death', 'death', 'death', 'death', 'death', 'death', 'death', 'death', 'death', 'death', 'death']\n"
     ]
    }
   ],
   "source": [
    "#-------------------非死刑判例文(0)-------------------#\n",
    "import glob\n",
    "import os\n",
    "import MeCab\n",
    "import sys\n",
    "import re\n",
    "from collections import Counter\n",
    "\n",
    "##### ファイルをリストに格納 #####\n",
    "texts = []\n",
    "dir_name_txt = \"non_death_txt\"\n",
    "os.chdir('data/'+dir_name_txt)\n",
    "name = glob.glob(\"*\") #ファイル名リスト\n",
    "for i in range(len(name)):\n",
    "    f = open(str(name[i]), encoding=\"utf-8\")\n",
    "    texts.append(f.read())  # ファイル終端まで全て読んだデータを返す\n",
    "    f.close()\n",
    "os.chdir('..')\n",
    "os.chdir('..')\n",
    "print(len(name),len(texts))\n",
    "\n",
    "data = []\n",
    "num_test = 10 # testデータの数\n",
    "for i in range(len(name)):\n",
    "    ##### 名詞をリストに格納 #####\n",
    "    items = []\n",
    "    # パース\n",
    "    mecab = MeCab.Tagger()\n",
    "    parse = mecab.parse(texts[i])\n",
    "    lines = parse.split('\\n')\n",
    "    items = (re.split('[\\t,]', line) for line in lines)\n",
    "    \n",
    "\n",
    "    # 名詞をリストに格納\n",
    "    words = [item[0]\n",
    "             for item in items\n",
    "             if (item[0] not in ('EOS', '', 't', 'ー') and\n",
    "                 item[1] == '名詞' and item[2] == '一般')]\n",
    "\n",
    "    # 名詞の間にスペースを入れて1文にする\n",
    "    data_ = \"\"\n",
    "    for j in range(len(words)):\n",
    "        data_ = data_ + \" \"+words[j]\n",
    "    data.append(data_)\n",
    "    #print(len(data))\n",
    "\n",
    "hanrei_test = {\"file_name\":[],\"data\":[],\"target_name\":[],\"target\":[]}\n",
    "for i in range(num_test):\n",
    "    hanrei_test[\"file_name\"].append(name[i])\n",
    "    hanrei_test[\"data\"].append(data[i])\n",
    "    hanrei_test[\"target_name\"].append(\"non_death\")\n",
    "    hanrei_test[\"target\"].append(0)\n",
    "\n",
    "hanrei_train = {\"file_name\":[],\"data\":[],\"target_name\":[],\"target\":[]}\n",
    "for i in range(num_test,len(data)):\n",
    "    hanrei_train[\"file_name\"].append(name[i])\n",
    "    hanrei_train[\"data\"].append(data[i])\n",
    "    hanrei_train[\"target_name\"].append(\"non_death\")\n",
    "    hanrei_train[\"target\"].append(0)\n",
    "    #{\"data\":str(i), \"target_name\":str(i), \"target\":str(i)})\n",
    "print(len(hanrei_test[\"data\"]),len(hanrei_train[\"data\"]))\n",
    "\n",
    "#-----------------------死刑判例文(1)--------------------------#\n",
    "\n",
    "##### ファイルをリストに格納 #####\n",
    "texts = []\n",
    "dir_name_txt = \"death_txt\"\n",
    "os.chdir('data/'+dir_name_txt)\n",
    "name = glob.glob(\"*\")\n",
    "for i in range(len(name)):\n",
    "    f = open(str(name[i]), encoding=\"utf-8\")\n",
    "    texts.append(f.read())  # ファイル終端まで全て読んだデータを返す\n",
    "    f.close()\n",
    "os.chdir('..')\n",
    "os.chdir('..')\n",
    "#print(len(name),len(texts))\n",
    "\n",
    "data = []\n",
    "for i in range(len(name)):\n",
    "    ##### 名詞をリストに格納 #####\n",
    "    items = []\n",
    "    # パース\n",
    "    mecab = MeCab.Tagger()\n",
    "    parse = mecab.parse(texts[i])\n",
    "    #print(parse)\n",
    "    lines = parse.split('\\n')\n",
    "    items = (re.split('[\\t,]', line) for line in lines)\n",
    "    #print(items)\n",
    "    # 名詞をリストに格納\n",
    "    words = [item[0]\n",
    "             for item in items\n",
    "             if (item[0] not in ('EOS', '', 't', 'ー') and\n",
    "                 item[1] == '名詞' and item[2] == '一般')]\n",
    "\n",
    "    #名詞の間にスペースを入れて1文にする\n",
    "    data_ = \"\"\n",
    "    for j in range(len(words)):\n",
    "        data_ = data_ + \" \"+words[j]\n",
    "        \n",
    "    data.append(data_)\n",
    "#print(data)\n",
    "\n",
    "#print(len(data))\n",
    "for i in range(num_test):\n",
    "    hanrei_test[\"file_name\"].append(name[i])\n",
    "    hanrei_test[\"data\"].append(data[i])\n",
    "    hanrei_test[\"target_name\"].append(\"death\")\n",
    "    hanrei_test[\"target\"].append(1)\n",
    "\n",
    "for i in range(num_test,len(data)):\n",
    "    hanrei_train[\"file_name\"].append(name[i])\n",
    "    hanrei_train[\"data\"].append(data[i])\n",
    "    hanrei_train[\"target_name\"].append(\"death\")\n",
    "    hanrei_train[\"target\"].append(1)\n",
    "    \n",
    "\n",
    "print(len(hanrei_test[\"data\"]),len(hanrei_train[\"data\"]))\n",
    "print(hanrei_train[\"target_name\"])"
   ]
  },
  {
   "cell_type": "markdown",
   "metadata": {},
   "source": [
    "### 参考：文書分散表現SCDVと他の分散表現を比較してみた\n",
    "http://www.ie110704.net/2018/10/12/%E6%96%87%E6%9B%B8%E5%88%86%E6%95%A3%E8%A1%A8%E7%8F%BEscdv%E3%81%A8%E4%BB%96%E3%81%AE%E5%88%86%E6%95%A3%E8%A1%A8%E7%8F%BE%E3%82%92%E6%AF%94%E8%BC%83%E3%81%97%E3%81%A6%E3%81%BF%E3%81%9F/"
   ]
  },
  {
   "cell_type": "code",
   "execution_count": 2,
   "metadata": {},
   "outputs": [
    {
     "name": "stderr",
     "output_type": "stream",
     "text": [
      "C:\\Users\\monch\\Anaconda3\\lib\\site-packages\\gensim\\utils.py:1212: UserWarning: detected Windows; aliasing chunkize to chunkize_serial\n",
      "  warnings.warn(\"detected Windows; aliasing chunkize to chunkize_serial\")\n"
     ]
    }
   ],
   "source": [
    "import re\n",
    "import numpy as np\n",
    "import pandas as pd\n",
    "import matplotlib\n",
    "import matplotlib.pylab as plt\n",
    "import seaborn as sns\n",
    "from sklearn.feature_extraction.text import CountVectorizer, TfidfVectorizer\n",
    "from sklearn import datasets, manifold, mixture, model_selection\n",
    "from gensim.models import Word2Vec\n",
    "from gensim.models.doc2vec import Doc2Vec, TaggedDocument\n",
    "from xgboost import XGBClassifier"
   ]
  },
  {
   "cell_type": "code",
   "execution_count": 3,
   "metadata": {},
   "outputs": [],
   "source": [
    "# BoW, tf-idf, average Word2Vec, Doc2Vec, SCDV\n",
    " \n",
    "features_num = 200\n",
    "min_word_count = 1\n",
    "max_word_count = 20\n",
    "context = 5\n",
    "downsampling = 1e-3\n",
    "epoch_num = 10"
   ]
  },
  {
   "cell_type": "code",
   "execution_count": 4,
   "metadata": {},
   "outputs": [],
   "source": [
    "def analyzer(text):\n",
    "    \n",
    "    stop_words = ['の']\n",
    "    text = text.replace('\\n', '') # 改行削除\n",
    "    text = text.replace('\\t', '') # タブ削除\n",
    "    text = re.sub(re.compile(r'[!-\\/:-@[-`{-~]'), ' ', text) # 記号をスペースに置き換え\n",
    "    text = text.split(' ') # スペースで区切る\n",
    "    \n",
    "    words = []\n",
    "    for word in text:\n",
    "        if (re.compile(r'^.*[0-9]+.*$').fullmatch(word) is not None): # 数字が含まれるものは除外\n",
    "            continue\n",
    "        if word in stop_words: # ストップワードに含まれるものは除外\n",
    "            continue\n",
    "        if len(word) < 2: #  1文字、0文字（空文字）は除外\n",
    "            continue\n",
    "        words.append(word)\n",
    "        \n",
    "    return words"
   ]
  },
  {
   "cell_type": "markdown",
   "metadata": {},
   "source": [
    "### BoW"
   ]
  },
  {
   "cell_type": "code",
   "execution_count": 5,
   "metadata": {},
   "outputs": [
    {
     "data": {
      "text/plain": [
       "<125x3031 sparse matrix of type '<class 'numpy.int64'>'\n",
       "\twith 7934 stored elements in Compressed Sparse Row format>"
      ]
     },
     "execution_count": 5,
     "metadata": {},
     "output_type": "execute_result"
    }
   ],
   "source": [
    "#corpus = [hanrei_train[\"data\"] for i in range(len(hanrei_train[\"data\"]))]\n",
    "corpus = [hanrei_train[\"data\"][i] for i in range(len(hanrei_train[\"data\"]))]\n",
    "count_vectorizer = CountVectorizer(analyzer=analyzer,min_df=min_word_count,max_df = max_word_count, binary=True)\n",
    "bows = count_vectorizer.fit_transform(corpus)\n",
    "bows.shape # (75,3446)\n",
    "bows"
   ]
  },
  {
   "cell_type": "code",
   "execution_count": 6,
   "metadata": {},
   "outputs": [
    {
     "data": {
      "text/plain": [
       "(125, 2)"
      ]
     },
     "execution_count": 6,
     "metadata": {},
     "output_type": "execute_result"
    }
   ],
   "source": [
    "# sklearn :manifold\n",
    "tsne_bow = manifold.TSNE(n_components=2).fit_transform(bows.toarray())\n",
    "tsne_bow.shape # (2800, 2)"
   ]
  },
  {
   "cell_type": "code",
   "execution_count": 7,
   "metadata": {},
   "outputs": [
    {
     "data": {
      "image/png": "[encoded data removed]",
      "text/plain": [
       "<Figure size 504x360 with 2 Axes>"
      ]
     },
     "metadata": {
      "needs_background": "light"
     },
     "output_type": "display_data"
    }
   ],
   "source": [
    "df_tsne_bow = pd.DataFrame({\n",
    "    'x': tsne_bow[:, 0],\n",
    "    'y': tsne_bow[:, 1],\n",
    "    'category': hanrei_train[\"target\"],\n",
    "    })\n",
    " \n",
    "df_tsne_bow.plot.scatter(x='x', y='y', c='category', colormap='viridis', figsize=(7, 5), s=20)\n",
    "plt.show()"
   ]
  },
  {
   "cell_type": "markdown",
   "metadata": {},
   "source": [
    "# tfidf"
   ]
  },
  {
   "cell_type": "code",
   "execution_count": 8,
   "metadata": {},
   "outputs": [
    {
     "data": {
      "text/plain": [
       "(125, 3085)"
      ]
     },
     "execution_count": 8,
     "metadata": {},
     "output_type": "execute_result"
    }
   ],
   "source": [
    "corpus = hanrei_train[\"data\"]\n",
    "tfidf_vectorizer = TfidfVectorizer(analyzer=analyzer, min_df=min_word_count)\n",
    "tfidfs = tfidf_vectorizer.fit_transform(corpus)\n",
    "tfidfs.shape "
   ]
  },
  {
   "cell_type": "code",
   "execution_count": 9,
   "metadata": {},
   "outputs": [
    {
     "data": {
      "text/plain": [
       "(125, 2)"
      ]
     },
     "execution_count": 9,
     "metadata": {},
     "output_type": "execute_result"
    }
   ],
   "source": [
    "tsne_tfidf = manifold.TSNE(n_components=2).fit_transform(tfidfs.toarray())\n",
    "tsne_tfidf.shape "
   ]
  },
  {
   "cell_type": "code",
   "execution_count": 10,
   "metadata": {
    "scrolled": false
   },
   "outputs": [
    {
     "data": {
      "image/png": "[encoded data removed]",
      "text/plain": [
       "<Figure size 504x360 with 2 Axes>"
      ]
     },
     "metadata": {
      "needs_background": "light"
     },
     "output_type": "display_data"
    }
   ],
   "source": [
    "df_tsne_tfidf = pd.DataFrame({\n",
    "    'x': tsne_tfidf[:, 0],\n",
    "    'y': tsne_tfidf[:, 1],\n",
    "    'category': hanrei_train[\"target\"],\n",
    "})\n",
    "\n",
    "df_tsne_tfidf.plot.scatter(x='x', y='y', c='category', colormap='viridis', figsize=(7, 5), s=20)\n",
    "plt.show()"
   ]
  },
  {
   "cell_type": "markdown",
   "metadata": {},
   "source": [
    "### Word2Vec"
   ]
  },
  {
   "cell_type": "code",
   "execution_count": 11,
   "metadata": {},
   "outputs": [
    {
     "name": "stderr",
     "output_type": "stream",
     "text": [
      "C:\\Users\\monch\\Anaconda3\\lib\\site-packages\\gensim\\models\\base_any2vec.py:743: UserWarning: C extension not loaded, training will be slow. Install a C compiler and reinstall gensim for fast training.\n",
      "  \"C extension not loaded, training will be slow. \"\n"
     ]
    },
    {
     "data": {
      "text/plain": [
       "(125, 200)"
      ]
     },
     "execution_count": 11,
     "metadata": {},
     "output_type": "execute_result"
    }
   ],
   "source": [
    "corpus = [analyzer(hanrei_train[\"data\"][i]) for i in range(len(hanrei_train[\"data\"]))]\n",
    "word2vecs = Word2Vec(\n",
    "    sentences=corpus, iter=epoch_num, size=features_num,\n",
    "    min_count=min_word_count, window=context, sample=downsampling,\n",
    ")\n",
    "avg_word2vec = np.array([word2vecs.wv[list(analyzer(hanrei_train[\"data\"][i]) & word2vecs.wv.vocab.keys())].mean(axis=0) for i in range(len(hanrei_train[\"data\"]))])\n",
    "avg_word2vec.shape "
   ]
  },
  {
   "cell_type": "code",
   "execution_count": 12,
   "metadata": {},
   "outputs": [
    {
     "data": {
      "text/plain": [
       "(125, 2)"
      ]
     },
     "execution_count": 12,
     "metadata": {},
     "output_type": "execute_result"
    }
   ],
   "source": [
    "tsne_avg_word2vec = manifold.TSNE(n_components=2).fit_transform(avg_word2vec)\n",
    "tsne_avg_word2vec.shape "
   ]
  },
  {
   "cell_type": "code",
   "execution_count": 13,
   "metadata": {},
   "outputs": [
    {
     "data": {
      "image/png": "[encoded data removed]",
      "text/plain": [
       "<Figure size 504x360 with 2 Axes>"
      ]
     },
     "metadata": {
      "needs_background": "light"
     },
     "output_type": "display_data"
    }
   ],
   "source": [
    "df_tsne_avg_word2vec = pd.DataFrame({\n",
    "    'x': tsne_avg_word2vec[:, 0],\n",
    "    'y': tsne_avg_word2vec[:, 1],\n",
    "    'category': hanrei_train[\"target\"],\n",
    "})\n",
    " \n",
    "df_tsne_avg_word2vec.plot.scatter(x='x', y='y', c='category', colormap='viridis', figsize=(7, 5), s=20)\n",
    "plt.show()"
   ]
  },
  {
   "cell_type": "markdown",
   "metadata": {},
   "source": [
    "### Doc2Vec"
   ]
  },
  {
   "cell_type": "code",
   "execution_count": 5,
   "metadata": {},
   "outputs": [
    {
     "name": "stderr",
     "output_type": "stream",
     "text": [
      "C:\\Users\\monch\\Anaconda3\\lib\\site-packages\\gensim\\models\\base_any2vec.py:743: UserWarning: C extension not loaded, training will be slow. Install a C compiler and reinstall gensim for fast training.\n",
      "  \"C extension not loaded, training will be slow. \"\n"
     ]
    },
    {
     "data": {
      "text/plain": [
       "(125, 200)"
      ]
     },
     "execution_count": 5,
     "metadata": {},
     "output_type": "execute_result"
    }
   ],
   "source": [
    "corpus = [TaggedDocument(words=analyzer(hanrei_train[\"data\"][i]), tags=[hanrei_train[\"target\"][i]]) for i in range(len(hanrei_train[\"data\"]))]\n",
    "doc2vecs = Doc2Vec(\n",
    "    documents=corpus, dm=1,  epochs=epoch_num, vector_size=features_num,\n",
    "    min_count=min_word_count, window=context, sample=downsampling\n",
    ") # dm == 1 -> dmpv, dm != 1 -> DBoW\n",
    "doc2vecs = np.array([doc2vecs.infer_vector(analyzer(hanrei_train[\"data\"][i])) for i in range(len(hanrei_train[\"data\"]))])\n",
    "doc2vecs.shape #"
   ]
  },
  {
   "cell_type": "code",
   "execution_count": 6,
   "metadata": {},
   "outputs": [
    {
     "data": {
      "text/plain": [
       "(125, 2)"
      ]
     },
     "execution_count": 6,
     "metadata": {},
     "output_type": "execute_result"
    }
   ],
   "source": [
    "tsne_doc2vec = manifold.TSNE(n_components=2).fit_transform(doc2vecs)\n",
    "tsne_doc2vec.shape # "
   ]
  },
  {
   "cell_type": "code",
   "execution_count": 7,
   "metadata": {},
   "outputs": [
    {
     "data": {
      "image/png": "[encoded data removed]",
      "text/plain": [
       "<Figure size 504x360 with 2 Axes>"
      ]
     },
     "metadata": {
      "needs_background": "light"
     },
     "output_type": "display_data"
    }
   ],
   "source": [
    "df_tsne_doc2vec = pd.DataFrame({\n",
    "    'x': tsne_doc2vec[:, 0],\n",
    "    'y': tsne_doc2vec[:, 1],\n",
    "    'category': hanrei_train[\"target\"],\n",
    "})\n",
    " \n",
    "df_tsne_doc2vec.plot.scatter(x='x', y='y', c='category', colormap='viridis', figsize=(7, 5), s=20)\n",
    "plt.show()\n"
   ]
  },
  {
   "cell_type": "markdown",
   "metadata": {},
   "source": [
    "https://github.com/dheeraj7596/SCDV"
   ]
  },
  {
   "cell_type": "markdown",
   "metadata": {},
   "source": [
    "### SCDV"
   ]
  },
  {
   "cell_type": "code",
   "execution_count": null,
   "metadata": {},
   "outputs": [],
   "source": [
    "word_vectors = word2vecs.wv.vectors\n",
    "clusters_num = 60\n",
    "gmm = mixture.GaussianMixture(n_components=clusters_num, covariance_type='tied', max_iter=50)\n",
    "gmm.fit(word_vectors)"
   ]
  },
  {
   "cell_type": "code",
   "execution_count": null,
   "metadata": {},
   "outputs": [],
   "source": [
    "idf_dic = dict(zip(tfidf_vectorizer.get_feature_names(), tfidf_vectorizer._tfidf.idf_))\n",
    "assign_dic = dict(zip(word2vecs.wv.index2word, gmm.predict(word_vectors)))\n",
    "soft_assign_dic = dict(zip(word2vecs.wv.index2word, gmm.predict_proba(word_vectors)))\n",
    " \n",
    "word_topic_vecs = {}\n",
    "for word in assign_dic:\n",
    "    word_topic_vecs[word] = np.zeros(features_num*clusters_num, dtype=np.float32)\n",
    "    for i in range(0, clusters_num):\n",
    "        try:\n",
    "            word_topic_vecs[word][i*features_num:(i+1)*features_num] = word2vecs.wv[word]*soft_assign_dic[word][i]*idf_dic[word]\n",
    "        except:\n",
    "            continue"
   ]
  },
  {
   "cell_type": "code",
   "execution_count": null,
   "metadata": {},
   "outputs": [],
   "source": [
    "scdvs = np.zeros((len(hanrei_train[\"data\"]), clusters_num*features_num), dtype=np.float32)\n",
    " \n",
    "a_min = 0\n",
    "a_max = 0\n",
    " \n",
    "for i in range(len(hanrei_train[\"data\"])):\n",
    "    text = hanrei_train[\"data\"][i]\n",
    "    tmp = np.zeros(clusters_num*features_num, dtype=np.float32)\n",
    "    words = analyzer(text)\n",
    "    for word in words:\n",
    "        if word in word_topic_vecs:\n",
    "            tmp += word_topic_vecs[word]\n",
    "    norm = np.sqrt(np.sum(tmp**2))\n",
    "    if norm > 0:\n",
    "        tmp /= norm\n",
    "    a_min += min(tmp)\n",
    "    a_max += max(tmp)\n",
    "    scdvs[i] = tmp\n",
    "\n",
    "p = 0.04\n",
    "a_min = a_min*1.0 / len(hanrei_train[\"data\"])\n",
    "a_max = a_max*1.0 / len(hanrei_train[\"data\"])\n",
    "thres = (abs(a_min)+abs(a_max)) / 2\n",
    "thres *= p\n",
    " \n",
    "scdvs[abs(scdvs) < thres] = 0\n",
    "scdvs.shape "
   ]
  },
  {
   "cell_type": "code",
   "execution_count": null,
   "metadata": {},
   "outputs": [],
   "source": [
    "tsne_scdv = manifold.TSNE(n_components=2).fit_transform(scdvs)\n",
    "tsne_scdv.shape "
   ]
  },
  {
   "cell_type": "code",
   "execution_count": null,
   "metadata": {},
   "outputs": [],
   "source": [
    "df_tsne_scdv = pd.DataFrame({\n",
    "    'x': tsne_scdv[:, 0],\n",
    "    'y': tsne_scdv[:, 1],\n",
    "    'category': hanrei_train[\"target\"],\n",
    "})\n",
    " \n",
    "df_tsne_scdv.plot.scatter(x='x', y='y', c='category', colormap='viridis', figsize=(7, 5), s=20)\n",
    "plt.show()"
   ]
  },
  {
   "cell_type": "markdown",
   "metadata": {},
   "source": [
    "### XGBoostで分類"
   ]
  },
  {
   "cell_type": "code",
   "execution_count": null,
   "metadata": {},
   "outputs": [],
   "source": [
    "import warnings\n",
    "warnings.filterwarnings('ignore')"
   ]
  },
  {
   "cell_type": "code",
   "execution_count": null,
   "metadata": {},
   "outputs": [],
   "source": [
    "model = XGBClassifier()\n",
    " \n",
    "df_compare = pd.DataFrame(columns=['name', 'train_accuracy', 'valid_accuracy', 'time'])\n",
    "scoring = ['accuracy']\n",
    "cv_trial_num = 8\n",
    " \n",
    "# BoW\n",
    "cv_rlts = model_selection.cross_validate(model, bows.toarray(), hanrei_train[\"target\"], scoring=scoring, cv=cv_trial_num, return_train_score=True)\n",
    "for i in range(cv_trial_num):\n",
    "    s = pd.Series(['BoW', cv_rlts['train_accuracy'][i], cv_rlts['test_accuracy'][i], cv_rlts['fit_time'][i]], index=df_compare.columns, name='BoW'+str(i))\n",
    "    df_compare = df_compare.append(s)\n",
    "\n",
    "# tfidf\n",
    "cv_rlts = model_selection.cross_validate(model, tfidfs.toarray(), hanrei_train[\"target\"], scoring=scoring, cv=cv_trial_num, return_train_score=True)\n",
    "for i in range(cv_trial_num):\n",
    "    s = pd.Series(['tfidf', cv_rlts['train_accuracy'][i], cv_rlts['test_accuracy'][i], cv_rlts['fit_time'][i]], index=df_compare.columns, name='tfidf'+str(i))\n",
    "    df_compare = df_compare.append(s)\n",
    "\n",
    "# Word2Vec average\n",
    "cv_rlts = model_selection.cross_validate(model, avg_word2vec, hanrei_train[\"target\"], scoring=scoring, cv=cv_trial_num, return_train_score=True)\n",
    "for i in range(cv_trial_num):\n",
    "    s = pd.Series(['avg_Word2Vec', cv_rlts['train_accuracy'][i], cv_rlts['test_accuracy'][i], cv_rlts['fit_time'][i]], index=df_compare.columns, name='avg_Word2Vec'+str(i))\n",
    "    df_compare = df_compare.append(s)\n",
    "\n",
    "# Doc2Vec\n",
    "cv_rlts = model_selection.cross_validate(model, doc2vecs, hanrei_train[\"target\"], scoring=scoring, cv=cv_trial_num, return_train_score=True)\n",
    "for i in range(cv_trial_num):\n",
    "    s = pd.Series(['Doc2Vec', cv_rlts['train_accuracy'][i], cv_rlts['test_accuracy'][i], cv_rlts['fit_time'][i]], index=df_compare.columns, name='Doc2Vec'+str(i))\n",
    "    df_compare = df_compare.append(s)\n",
    "\n",
    "# SCDV\n",
    "cv_rlts = model_selection.cross_validate(model, scdvs, hanrei_train[\"target\"], scoring=scoring, cv=cv_trial_num, return_train_score=True)\n",
    "for i in range(cv_trial_num):\n",
    "    s = pd.Series(['SCDV', cv_rlts['train_accuracy'][i], cv_rlts['test_accuracy'][i], cv_rlts['fit_time'][i]], index=df_compare.columns, name='SCDV'+str(i))\n",
    "    df_compare = df_compare.append(s)\n",
    "\n",
    "plt.figure(figsize=(12,5))\n",
    "sns.boxplot(data=df_compare, y='name', x='valid_accuracy', orient='h', palette='viridis', linewidth=0.5, width=0.5)\n",
    "plt.grid()\n",
    "plt.title('validation accuracy')\n",
    "plt.show()"
   ]
  },
  {
   "cell_type": "markdown",
   "metadata": {},
   "source": [
    "# テストデータの作成と予測"
   ]
  },
  {
   "cell_type": "markdown",
   "metadata": {},
   "source": [
    "# test : Doc2Vec"
   ]
  },
  {
   "cell_type": "code",
   "execution_count": null,
   "metadata": {},
   "outputs": [
    {
     "name": "stderr",
     "output_type": "stream",
     "text": [
      "C:\\Users\\monch\\Anaconda3\\lib\\site-packages\\gensim\\models\\base_any2vec.py:743: UserWarning: C extension not loaded, training will be slow. Install a C compiler and reinstall gensim for fast training.\n",
      "  \"C extension not loaded, training will be slow. \"\n"
     ]
    }
   ],
   "source": [
    "corpus = [TaggedDocument(words=analyzer(hanrei_test[\"data\"][i]), tags=[hanrei_test[\"target\"][i]]) for i in range(len(hanrei_test[\"data\"]))]\n",
    "\n",
    "doc2vecs_test = Doc2Vec(\n",
    "                        documents=corpus, dm=1,  epochs=epoch_num, vector_size=features_num,\n",
    "                        min_count=min_word_count, window=context, sample=downsampling\n",
    "                        ) \n",
    "\n",
    "# dm == 1 -> dmpv, dm != 1 -> DBoW\n",
    "doc2vecs_test = np.array([doc2vecs_test.infer_vector(analyzer(hanrei_test[\"data\"][i])) for i in range(len(hanrei_test[\"data\"]))])\n",
    "doc2vecs_test.shape # "
   ]
  },
  {
   "cell_type": "code",
   "execution_count": null,
   "metadata": {},
   "outputs": [],
   "source": [
    "tsne_doc2vec_test = manifold.TSNE(n_components=2).fit_transform(doc2vecs_test)\n",
    "tsne_doc2vec_test.shape # "
   ]
  },
  {
   "cell_type": "code",
   "execution_count": null,
   "metadata": {},
   "outputs": [],
   "source": [
    "df_tsne_doc2vec = pd.DataFrame({\n",
    "    'x': tsne_doc2vec_test[:, 0],\n",
    "    'y': tsne_doc2vec_test[:, 1],\n",
    "    'category': hanrei_test[\"target\"],\n",
    "})\n",
    " \n",
    "df_tsne_doc2vec.plot.scatter(x='x', y='y', c='category', colormap='viridis', figsize=(7, 5), s=20)\n",
    "plt.show()"
   ]
  },
  {
   "cell_type": "code",
   "execution_count": null,
   "metadata": {},
   "outputs": [],
   "source": [
    "import xgboost as xgb\n",
    "\n",
    "param_dist = {'objective':'binary:logistic', 'n_estimators':2}\n",
    "\n",
    "clf = xgb.XGBClassifier(**param_dist)\n",
    "\n",
    "X_train = doc2vecs\n",
    "y_train = hanrei_train[\"target\"]\n",
    "X_test = doc2vecs_test\n",
    "y_test = hanrei_test[\"target\"]\n",
    "\n",
    "\n",
    "\n",
    "clf.fit(X_train, y_train,\n",
    "        eval_set=[(X_train, y_train), (X_test, y_test)],\n",
    "        eval_metric='logloss',\n",
    "        verbose=True)\n",
    "\n",
    "#clf.fit(X_train, y_train)\n",
    "\n",
    "evals_result = clf.evals_result()"
   ]
  },
  {
   "cell_type": "code",
   "execution_count": null,
   "metadata": {},
   "outputs": [],
   "source": [
    "from sklearn.metrics import confusion_matrix, classification_report\n",
    "pred = clf.predict(X_test)\n",
    "print(confusion_matrix(y_test, pred))\n",
    "print(classification_report(y_test, pred))"
   ]
  },
  {
   "cell_type": "code",
   "execution_count": null,
   "metadata": {},
   "outputs": [],
   "source": [
    "pred"
   ]
  },
  {
   "cell_type": "code",
   "execution_count": null,
   "metadata": {},
   "outputs": [],
   "source": [
    "y_test"
   ]
  },
  {
   "cell_type": "code",
   "execution_count": null,
   "metadata": {},
   "outputs": [],
   "source": []
  }
 ],
 "metadata": {
  "kernelspec": {
   "display_name": "Python 3",
   "language": "python",
   "name": "python3"
  },
  "language_info": {
   "codemirror_mode": {
    "name": "ipython",
    "version": 3
   },
   "file_extension": ".py",
   "mimetype": "text/x-python",
   "name": "python",
   "nbconvert_exporter": "python",
   "pygments_lexer": "ipython3",
   "version": "3.7.0"
  }
 },
 "nbformat": 4,
 "nbformat_minor": 2
}
