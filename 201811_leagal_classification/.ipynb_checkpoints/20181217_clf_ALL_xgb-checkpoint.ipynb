{
 "cells": [
  {
   "cell_type": "markdown",
   "metadata": {},
   "source": [
    "# SVMによる判例文の分類\n",
    "1. 非死刑判例文(target=0), 死刑判例文(target=1),として辞書型のデータセットを作成</br>\n",
    "2. tf-idfによる特徴量作成\n",
    "3. SVMモデルのハイパーパラメータ調整"
   ]
  },
  {
   "cell_type": "markdown",
   "metadata": {},
   "source": [
    "### 1. 非死刑判例文(target=0), 死刑判例文(target=1),として辞書型のデータセットを作成"
   ]
  },
  {
   "cell_type": "code",
   "execution_count": 195,
   "metadata": {},
   "outputs": [
    {
     "name": "stdout",
     "output_type": "stream",
     "text": [
      "54 54\n",
      "10 44\n",
      "20 75\n",
      "['non_death', 'non_death', 'non_death', 'non_death', 'non_death', 'non_death', 'non_death', 'non_death', 'non_death', 'non_death', 'non_death', 'non_death', 'non_death', 'non_death', 'non_death', 'non_death', 'non_death', 'non_death', 'non_death', 'non_death', 'non_death', 'non_death', 'non_death', 'non_death', 'non_death', 'non_death', 'non_death', 'non_death', 'non_death', 'non_death', 'non_death', 'non_death', 'non_death', 'non_death', 'non_death', 'non_death', 'non_death', 'non_death', 'non_death', 'non_death', 'non_death', 'non_death', 'non_death', 'non_death', 'death', 'death', 'death', 'death', 'death', 'death', 'death', 'death', 'death', 'death', 'death', 'death', 'death', 'death', 'death', 'death', 'death', 'death', 'death', 'death', 'death', 'death', 'death', 'death', 'death', 'death', 'death', 'death', 'death', 'death', 'death']\n"
     ]
    }
   ],
   "source": [
    "#-------------------非死刑判例文(0)-------------------#\n",
    "import glob\n",
    "import os\n",
    "import MeCab\n",
    "import sys\n",
    "import re\n",
    "from collections import Counter\n",
    "\n",
    "##### ファイルをリストに格納 #####\n",
    "texts = []\n",
    "dir_name_txt = \"non_death_txt\"\n",
    "os.chdir('data/'+dir_name_txt)\n",
    "name = glob.glob(\"*\") #ファイル名リスト\n",
    "for i in range(len(name)):\n",
    "    f = open(str(name[i]), encoding=\"utf-8\")\n",
    "    texts.append(f.read())  # ファイル終端まで全て読んだデータを返す\n",
    "    f.close()\n",
    "os.chdir('..')\n",
    "os.chdir('..')\n",
    "print(len(name),len(texts))\n",
    "\n",
    "data = []\n",
    "num_test = 10 # testデータの数\n",
    "for i in range(len(name)):\n",
    "    ##### 名詞をリストに格納 #####\n",
    "    items = []\n",
    "    # パース\n",
    "    mecab = MeCab.Tagger()\n",
    "    parse = mecab.parse(texts[i])\n",
    "    lines = parse.split('\\n')\n",
    "    items = (re.split('[\\t,]', line) for line in lines)\n",
    "    \n",
    "\n",
    "    # 名詞をリストに格納\n",
    "    words = [item[0]\n",
    "             for item in items\n",
    "             if (item[0] not in ('EOS', '', 't', 'ー') and\n",
    "                 item[1] == '名詞' and item[2] == '一般')]\n",
    "\n",
    "    # 名詞の間にスペースを入れて1文にする\n",
    "    data_ = \"\"\n",
    "    for j in range(len(words)):\n",
    "        data_ = data_ + \" \"+words[j]\n",
    "    data.append(data_)\n",
    "    #print(len(data))\n",
    "\n",
    "hanrei_test = {\"file_name\":[],\"data\":[],\"target_name\":[],\"target\":[]}\n",
    "for i in range(num_test):\n",
    "    hanrei_test[\"file_name\"].append(name[i])\n",
    "    hanrei_test[\"data\"].append(data[i])\n",
    "    hanrei_test[\"target_name\"].append(\"non_death\")\n",
    "    hanrei_test[\"target\"].append(0)\n",
    "\n",
    "hanrei_train = {\"file_name\":[],\"data\":[],\"target_name\":[],\"target\":[]}\n",
    "for i in range(num_test,len(data)):\n",
    "    hanrei_train[\"file_name\"].append(name[i])\n",
    "    hanrei_train[\"data\"].append(data[i])\n",
    "    hanrei_train[\"target_name\"].append(\"non_death\")\n",
    "    hanrei_train[\"target\"].append(0)\n",
    "    #{\"data\":str(i), \"target_name\":str(i), \"target\":str(i)})\n",
    "print(len(hanrei_test[\"data\"]),len(hanrei_train[\"data\"]))\n",
    "\n",
    "#-----------------------死刑判例文(1)--------------------------#\n",
    "\n",
    "##### ファイルをリストに格納 #####\n",
    "texts = []\n",
    "dir_name_txt = \"death_txt\"\n",
    "os.chdir('data/'+dir_name_txt)\n",
    "name = glob.glob(\"*\")\n",
    "for i in range(len(name)):\n",
    "    f = open(str(name[i]), encoding=\"utf-8\")\n",
    "    texts.append(f.read())  # ファイル終端まで全て読んだデータを返す\n",
    "    f.close()\n",
    "os.chdir('..')\n",
    "os.chdir('..')\n",
    "#print(len(name),len(texts))\n",
    "\n",
    "data = []\n",
    "for i in range(len(name)):\n",
    "    ##### 名詞をリストに格納 #####\n",
    "    items = []\n",
    "    # パース\n",
    "    mecab = MeCab.Tagger()\n",
    "    parse = mecab.parse(texts[i])\n",
    "    #print(parse)\n",
    "    lines = parse.split('\\n')\n",
    "    items = (re.split('[\\t,]', line) for line in lines)\n",
    "    #print(items)\n",
    "    # 名詞をリストに格納\n",
    "    words = [item[0]\n",
    "             for item in items\n",
    "             if (item[0] not in ('EOS', '', 't', 'ー') and\n",
    "                 item[1] == '名詞' and item[2] == '一般')]\n",
    "\n",
    "    #名詞の間にスペースを入れて1文にする\n",
    "    data_ = \"\"\n",
    "    for j in range(len(words)):\n",
    "        data_ = data_ + \" \"+words[j]\n",
    "        \n",
    "    data.append(data_)\n",
    "#print(data)\n",
    "\n",
    "#print(len(data))\n",
    "for i in range(num_test):\n",
    "    hanrei_test[\"file_name\"].append(name[i])\n",
    "    hanrei_test[\"data\"].append(data[i])\n",
    "    hanrei_test[\"target_name\"].append(\"death\")\n",
    "    hanrei_test[\"target\"].append(1)\n",
    "\n",
    "for i in range(num_test,len(data)):\n",
    "    hanrei_train[\"file_name\"].append(name[i])\n",
    "    hanrei_train[\"data\"].append(data[i])\n",
    "    hanrei_train[\"target_name\"].append(\"death\")\n",
    "    hanrei_train[\"target\"].append(1)\n",
    "    \n",
    "\n",
    "print(len(hanrei_test[\"data\"]),len(hanrei_train[\"data\"]))\n",
    "print(hanrei_train[\"target_name\"])"
   ]
  },
  {
   "cell_type": "markdown",
   "metadata": {},
   "source": [
    "### 参考：文書分散表現SCDVと他の分散表現を比較してみた\n",
    "http://www.ie110704.net/2018/10/12/%E6%96%87%E6%9B%B8%E5%88%86%E6%95%A3%E8%A1%A8%E7%8F%BEscdv%E3%81%A8%E4%BB%96%E3%81%AE%E5%88%86%E6%95%A3%E8%A1%A8%E7%8F%BE%E3%82%92%E6%AF%94%E8%BC%83%E3%81%97%E3%81%A6%E3%81%BF%E3%81%9F/"
   ]
  },
  {
   "cell_type": "code",
   "execution_count": 196,
   "metadata": {},
   "outputs": [],
   "source": [
    "import re\n",
    "import numpy as np\n",
    "import pandas as pd\n",
    "import matplotlib\n",
    "import matplotlib.pylab as plt\n",
    "import seaborn as sns\n",
    "from sklearn.feature_extraction.text import CountVectorizer, TfidfVectorizer\n",
    "from sklearn import datasets, manifold, mixture, model_selection\n",
    "from gensim.models import Word2Vec\n",
    "from gensim.models.doc2vec import Doc2Vec, TaggedDocument\n",
    "from xgboost import XGBClassifier"
   ]
  },
  {
   "cell_type": "code",
   "execution_count": 197,
   "metadata": {},
   "outputs": [],
   "source": [
    "# BoW, tf-idf, average Word2Vec, Doc2Vec, SCDV\n",
    " \n",
    "features_num = 200\n",
    "min_word_count = 1\n",
    "context = 5\n",
    "downsampling = 1e-3\n",
    "epoch_num = 10"
   ]
  },
  {
   "cell_type": "code",
   "execution_count": 198,
   "metadata": {},
   "outputs": [],
   "source": [
    "def analyzer(text):\n",
    "    \n",
    "    stop_words = ['の']\n",
    "    text = text.replace('\\n', '') # 改行削除\n",
    "    text = text.replace('\\t', '') # タブ削除\n",
    "    text = re.sub(re.compile(r'[!-\\/:-@[-`{-~]'), ' ', text) # 記号をスペースに置き換え\n",
    "    text = text.split(' ') # スペースで区切る\n",
    "    \n",
    "    words = []\n",
    "    for word in text:\n",
    "        if (re.compile(r'^.*[0-9]+.*$').fullmatch(word) is not None): # 数字が含まれるものは除外\n",
    "            continue\n",
    "        if word in stop_words: # ストップワードに含まれるものは除外\n",
    "            continue\n",
    "        if len(word) < 2: #  1文字、0文字（空文字）は除外\n",
    "            continue\n",
    "        words.append(word)\n",
    "        \n",
    "    return words"
   ]
  },
  {
   "cell_type": "markdown",
   "metadata": {},
   "source": [
    "### BoW"
   ]
  },
  {
   "cell_type": "code",
   "execution_count": 199,
   "metadata": {},
   "outputs": [
    {
     "data": {
      "text/plain": [
       "(75, 3446)"
      ]
     },
     "execution_count": 199,
     "metadata": {},
     "output_type": "execute_result"
    }
   ],
   "source": [
    "#corpus = [hanrei_train[\"data\"] for i in range(len(hanrei_train[\"data\"]))]\n",
    "corpus = [hanrei_train[\"data\"][i] for i in range(len(hanrei_train[\"data\"]))]\n",
    "count_vectorizer = CountVectorizer(analyzer=analyzer,min_df=min_word_count, binary=True)\n",
    "bows = count_vectorizer.fit_transform(corpus)\n",
    "bows.shape # (75,3446)"
   ]
  },
  {
   "cell_type": "code",
   "execution_count": 200,
   "metadata": {},
   "outputs": [
    {
     "data": {
      "text/plain": [
       "(75, 2)"
      ]
     },
     "execution_count": 200,
     "metadata": {},
     "output_type": "execute_result"
    }
   ],
   "source": [
    "tsne_bow = manifold.TSNE(n_components=2).fit_transform(bows.toarray())\n",
    "tsne_bow.shape # (2800, 2)"
   ]
  },
  {
   "cell_type": "code",
   "execution_count": 201,
   "metadata": {},
   "outputs": [
    {
     "data": {
      "image/png": "[encoded data removed]",
      "text/plain": [
       "<Figure size 504x360 with 2 Axes>"
      ]
     },
     "metadata": {
      "needs_background": "light"
     },
     "output_type": "display_data"
    }
   ],
   "source": [
    "df_tsne_bow = pd.DataFrame({\n",
    "    'x': tsne_bow[:, 0],\n",
    "    'y': tsne_bow[:, 1],\n",
    "    'category': hanrei_train[\"target\"],\n",
    "    })\n",
    " \n",
    "df_tsne_bow.plot.scatter(x='x', y='y', c='category', colormap='viridis', figsize=(7, 5), s=20)\n",
    "plt.show()"
   ]
  },
  {
   "cell_type": "markdown",
   "metadata": {},
   "source": [
    "# tfidf"
   ]
  },
  {
   "cell_type": "code",
   "execution_count": 202,
   "metadata": {},
   "outputs": [
    {
     "data": {
      "text/plain": [
       "(75, 3446)"
      ]
     },
     "execution_count": 202,
     "metadata": {},
     "output_type": "execute_result"
    }
   ],
   "source": [
    "corpus = hanrei_train[\"data\"]\n",
    "tfidf_vectorizer = TfidfVectorizer(analyzer=analyzer, min_df=min_word_count)\n",
    "tfidfs = tfidf_vectorizer.fit_transform(corpus)\n",
    "tfidfs.shape "
   ]
  },
  {
   "cell_type": "code",
   "execution_count": 203,
   "metadata": {},
   "outputs": [
    {
     "data": {
      "text/plain": [
       "(75, 2)"
      ]
     },
     "execution_count": 203,
     "metadata": {},
     "output_type": "execute_result"
    }
   ],
   "source": [
    "tsne_tfidf = manifold.TSNE(n_components=2).fit_transform(tfidfs.toarray())\n",
    "tsne_tfidf.shape "
   ]
  },
  {
   "cell_type": "code",
   "execution_count": 204,
   "metadata": {
    "scrolled": false
   },
   "outputs": [
    {
     "data": {
      "image/png": "[encoded data removed]",
      "text/plain": [
       "<Figure size 504x360 with 2 Axes>"
      ]
     },
     "metadata": {
      "needs_background": "light"
     },
     "output_type": "display_data"
    }
   ],
   "source": [
    "df_tsne_tfidf = pd.DataFrame({\n",
    "    'x': tsne_tfidf[:, 0],\n",
    "    'y': tsne_tfidf[:, 1],\n",
    "    'category': hanrei_train[\"target\"],\n",
    "})\n",
    " \n",
    "df_tsne_tfidf.plot.scatter(x='x', y='y', c='category', colormap='viridis', figsize=(7, 5), s=20)\n",
    "plt.show()"
   ]
  },
  {
   "cell_type": "markdown",
   "metadata": {},
   "source": [
    "### Word2Vec"
   ]
  },
  {
   "cell_type": "code",
   "execution_count": 205,
   "metadata": {},
   "outputs": [
    {
     "data": {
      "text/plain": [
       "(75, 200)"
      ]
     },
     "execution_count": 205,
     "metadata": {},
     "output_type": "execute_result"
    }
   ],
   "source": [
    "corpus = [analyzer(hanrei_train[\"data\"][i]) for i in range(len(hanrei_train[\"data\"]))]\n",
    "word2vecs = Word2Vec(\n",
    "    sentences=corpus, iter=epoch_num, size=features_num,\n",
    "    min_count=min_word_count, window=context, sample=downsampling,\n",
    ")\n",
    "avg_word2vec = np.array([word2vecs.wv[list(analyzer(hanrei_train[\"data\"][i]) & word2vecs.wv.vocab.keys())].mean(axis=0) for i in range(len(hanrei_train[\"data\"]))])\n",
    "avg_word2vec.shape "
   ]
  },
  {
   "cell_type": "code",
   "execution_count": 206,
   "metadata": {},
   "outputs": [
    {
     "data": {
      "text/plain": [
       "(75, 2)"
      ]
     },
     "execution_count": 206,
     "metadata": {},
     "output_type": "execute_result"
    }
   ],
   "source": [
    "tsne_avg_word2vec = manifold.TSNE(n_components=2).fit_transform(avg_word2vec)\n",
    "tsne_avg_word2vec.shape "
   ]
  },
  {
   "cell_type": "code",
   "execution_count": 207,
   "metadata": {},
   "outputs": [
    {
     "data": {
      "image/png": "[encoded data removed]",
      "text/plain": [
       "<Figure size 504x360 with 2 Axes>"
      ]
     },
     "metadata": {
      "needs_background": "light"
     },
     "output_type": "display_data"
    }
   ],
   "source": [
    "df_tsne_avg_word2vec = pd.DataFrame({\n",
    "    'x': tsne_avg_word2vec[:, 0],\n",
    "    'y': tsne_avg_word2vec[:, 1],\n",
    "    'category': hanrei_train[\"target\"],\n",
    "})\n",
    " \n",
    "df_tsne_avg_word2vec.plot.scatter(x='x', y='y', c='category', colormap='viridis', figsize=(7, 5), s=20)\n",
    "plt.show()"
   ]
  },
  {
   "cell_type": "markdown",
   "metadata": {},
   "source": [
    "### Doc2Vec"
   ]
  },
  {
   "cell_type": "code",
   "execution_count": 208,
   "metadata": {},
   "outputs": [
    {
     "data": {
      "text/plain": [
       "(75, 200)"
      ]
     },
     "execution_count": 208,
     "metadata": {},
     "output_type": "execute_result"
    }
   ],
   "source": [
    "corpus = [TaggedDocument(words=analyzer(hanrei_train[\"data\"][i]), tags=[hanrei_train[\"target\"][i]]) for i in range(len(hanrei_train[\"data\"]))]\n",
    "doc2vecs = Doc2Vec(\n",
    "    documents=corpus, dm=1,  epochs=epoch_num, vector_size=features_num,\n",
    "    min_count=min_word_count, window=context, sample=downsampling\n",
    ") # dm == 1 -> dmpv, dm != 1 -> DBoW\n",
    "doc2vecs = np.array([doc2vecs.infer_vector(analyzer(hanrei_train[\"data\"][i])) for i in range(len(hanrei_train[\"data\"]))])\n",
    "doc2vecs.shape # (2800, 200)"
   ]
  },
  {
   "cell_type": "code",
   "execution_count": 209,
   "metadata": {},
   "outputs": [
    {
     "data": {
      "text/plain": [
       "(75, 2)"
      ]
     },
     "execution_count": 209,
     "metadata": {},
     "output_type": "execute_result"
    }
   ],
   "source": [
    "tsne_doc2vec = manifold.TSNE(n_components=2).fit_transform(doc2vecs)\n",
    "tsne_doc2vec.shape # (2800, 2)"
   ]
  },
  {
   "cell_type": "code",
   "execution_count": 210,
   "metadata": {},
   "outputs": [
    {
     "data": {
      "image/png": "[encoded data removed]",
      "text/plain": [
       "<Figure size 504x360 with 2 Axes>"
      ]
     },
     "metadata": {
      "needs_background": "light"
     },
     "output_type": "display_data"
    }
   ],
   "source": [
    "7\n",
    "8\n",
    "df_tsne_doc2vec = pd.DataFrame({\n",
    "    'x': tsne_doc2vec[:, 0],\n",
    "    'y': tsne_doc2vec[:, 1],\n",
    "    'category': hanrei_train[\"target\"],\n",
    "})\n",
    " \n",
    "df_tsne_doc2vec.plot.scatter(x='x', y='y', c='category', colormap='viridis', figsize=(7, 5), s=20)\n",
    "plt.show()\n"
   ]
  },
  {
   "cell_type": "markdown",
   "metadata": {},
   "source": [
    "https://github.com/dheeraj7596/SCDV"
   ]
  },
  {
   "cell_type": "markdown",
   "metadata": {},
   "source": [
    "### SCDV"
   ]
  },
  {
   "cell_type": "code",
   "execution_count": 211,
   "metadata": {},
   "outputs": [
    {
     "data": {
      "text/plain": [
       "GaussianMixture(covariance_type='tied', init_params='kmeans', max_iter=50,\n",
       "        means_init=None, n_components=60, n_init=1, precisions_init=None,\n",
       "        random_state=None, reg_covar=1e-06, tol=0.001, verbose=0,\n",
       "        verbose_interval=10, warm_start=False, weights_init=None)"
      ]
     },
     "execution_count": 211,
     "metadata": {},
     "output_type": "execute_result"
    }
   ],
   "source": [
    "word_vectors = word2vecs.wv.vectors\n",
    "clusters_num = 60\n",
    "gmm = mixture.GaussianMixture(n_components=clusters_num, covariance_type='tied', max_iter=50)\n",
    "gmm.fit(word_vectors)"
   ]
  },
  {
   "cell_type": "code",
   "execution_count": 212,
   "metadata": {},
   "outputs": [],
   "source": [
    "idf_dic = dict(zip(tfidf_vectorizer.get_feature_names(), tfidf_vectorizer._tfidf.idf_))\n",
    "assign_dic = dict(zip(word2vecs.wv.index2word, gmm.predict(word_vectors)))\n",
    "soft_assign_dic = dict(zip(word2vecs.wv.index2word, gmm.predict_proba(word_vectors)))\n",
    " \n",
    "word_topic_vecs = {}\n",
    "for word in assign_dic:\n",
    "    word_topic_vecs[word] = np.zeros(features_num*clusters_num, dtype=np.float32)\n",
    "    for i in range(0, clusters_num):\n",
    "        try:\n",
    "            word_topic_vecs[word][i*features_num:(i+1)*features_num] = word2vecs.wv[word]*soft_assign_dic[word][i]*idf_dic[word]\n",
    "        except:\n",
    "            continue"
   ]
  },
  {
   "cell_type": "code",
   "execution_count": 213,
   "metadata": {},
   "outputs": [
    {
     "data": {
      "text/plain": [
       "(75, 12000)"
      ]
     },
     "execution_count": 213,
     "metadata": {},
     "output_type": "execute_result"
    }
   ],
   "source": [
    "scdvs = np.zeros((len(hanrei_train[\"data\"]), clusters_num*features_num), dtype=np.float32)\n",
    " \n",
    "a_min = 0\n",
    "a_max = 0\n",
    " \n",
    "for i in range(len(hanrei_train[\"data\"])):\n",
    "    text = hanrei_train[\"data\"][i]\n",
    "    tmp = np.zeros(clusters_num*features_num, dtype=np.float32)\n",
    "    words = analyzer(text)\n",
    "    for word in words:\n",
    "        if word in word_topic_vecs:\n",
    "            tmp += word_topic_vecs[word]\n",
    "    norm = np.sqrt(np.sum(tmp**2))\n",
    "    if norm > 0:\n",
    "        tmp /= norm\n",
    "    a_min += min(tmp)\n",
    "    a_max += max(tmp)\n",
    "    scdvs[i] = tmp\n",
    "\n",
    "p = 0.04\n",
    "a_min = a_min*1.0 / len(hanrei_train[\"data\"])\n",
    "a_max = a_max*1.0 / len(hanrei_train[\"data\"])\n",
    "thres = (abs(a_min)+abs(a_max)) / 2\n",
    "thres *= p\n",
    " \n",
    "scdvs[abs(scdvs) < thres] = 0\n",
    "scdvs.shape "
   ]
  },
  {
   "cell_type": "code",
   "execution_count": 214,
   "metadata": {},
   "outputs": [
    {
     "data": {
      "text/plain": [
       "(75, 2)"
      ]
     },
     "execution_count": 214,
     "metadata": {},
     "output_type": "execute_result"
    }
   ],
   "source": [
    "tsne_scdv = manifold.TSNE(n_components=2).fit_transform(scdvs)\n",
    "tsne_scdv.shape "
   ]
  },
  {
   "cell_type": "code",
   "execution_count": 215,
   "metadata": {},
   "outputs": [
    {
     "data": {
      "image/png": "[encoded data removed]",
      "text/plain": [
       "<Figure size 504x360 with 2 Axes>"
      ]
     },
     "metadata": {
      "needs_background": "light"
     },
     "output_type": "display_data"
    }
   ],
   "source": [
    "df_tsne_scdv = pd.DataFrame({\n",
    "    'x': tsne_scdv[:, 0],\n",
    "    'y': tsne_scdv[:, 1],\n",
    "    'category': hanrei_train[\"target\"],\n",
    "})\n",
    " \n",
    "df_tsne_scdv.plot.scatter(x='x', y='y', c='category', colormap='viridis', figsize=(7, 5), s=20)\n",
    "plt.show()"
   ]
  },
  {
   "cell_type": "markdown",
   "metadata": {},
   "source": [
    "### XGBoostで分類"
   ]
  },
  {
   "cell_type": "code",
   "execution_count": 216,
   "metadata": {},
   "outputs": [],
   "source": [
    "import warnings\n",
    "warnings.filterwarnings('ignore')"
   ]
  },
  {
   "cell_type": "code",
   "execution_count": 217,
   "metadata": {},
   "outputs": [
    {
     "data": {
      "image/png": "[encoded data removed]",
      "text/plain": [
       "<Figure size 864x360 with 1 Axes>"
      ]
     },
     "metadata": {
      "needs_background": "light"
     },
     "output_type": "display_data"
    }
   ],
   "source": [
    "model = XGBClassifier()\n",
    " \n",
    "df_compare = pd.DataFrame(columns=['name', 'train_accuracy', 'valid_accuracy', 'time'])\n",
    "scoring = ['accuracy']\n",
    "cv_trial_num = 8\n",
    " \n",
    "# BoW\n",
    "cv_rlts = model_selection.cross_validate(model, bows.toarray(), hanrei_train[\"target\"], scoring=scoring, cv=cv_trial_num, return_train_score=True)\n",
    "for i in range(cv_trial_num):\n",
    "    s = pd.Series(['BoW', cv_rlts['train_accuracy'][i], cv_rlts['test_accuracy'][i], cv_rlts['fit_time'][i]], index=df_compare.columns, name='BoW'+str(i))\n",
    "    df_compare = df_compare.append(s)\n",
    "\n",
    "# tfidf\n",
    "cv_rlts = model_selection.cross_validate(model, tfidfs.toarray(), hanrei_train[\"target\"], scoring=scoring, cv=cv_trial_num, return_train_score=True)\n",
    "for i in range(cv_trial_num):\n",
    "    s = pd.Series(['tfidf', cv_rlts['train_accuracy'][i], cv_rlts['test_accuracy'][i], cv_rlts['fit_time'][i]], index=df_compare.columns, name='tfidf'+str(i))\n",
    "    df_compare = df_compare.append(s)\n",
    "\n",
    "# Word2Vec average\n",
    "cv_rlts = model_selection.cross_validate(model, avg_word2vec, hanrei_train[\"target\"], scoring=scoring, cv=cv_trial_num, return_train_score=True)\n",
    "for i in range(cv_trial_num):\n",
    "    s = pd.Series(['avg_Word2Vec', cv_rlts['train_accuracy'][i], cv_rlts['test_accuracy'][i], cv_rlts['fit_time'][i]], index=df_compare.columns, name='avg_Word2Vec'+str(i))\n",
    "    df_compare = df_compare.append(s)\n",
    "\n",
    "# Doc2Vec\n",
    "cv_rlts = model_selection.cross_validate(model, doc2vecs, hanrei_train[\"target\"], scoring=scoring, cv=cv_trial_num, return_train_score=True)\n",
    "for i in range(cv_trial_num):\n",
    "    s = pd.Series(['Doc2Vec', cv_rlts['train_accuracy'][i], cv_rlts['test_accuracy'][i], cv_rlts['fit_time'][i]], index=df_compare.columns, name='Doc2Vec'+str(i))\n",
    "    df_compare = df_compare.append(s)\n",
    "\n",
    "# SCDV\n",
    "cv_rlts = model_selection.cross_validate(model, scdvs, hanrei_train[\"target\"], scoring=scoring, cv=cv_trial_num, return_train_score=True)\n",
    "for i in range(cv_trial_num):\n",
    "    s = pd.Series(['SCDV', cv_rlts['train_accuracy'][i], cv_rlts['test_accuracy'][i], cv_rlts['fit_time'][i]], index=df_compare.columns, name='SCDV'+str(i))\n",
    "    df_compare = df_compare.append(s)\n",
    "\n",
    "plt.figure(figsize=(12,5))\n",
    "sns.boxplot(data=df_compare, y='name', x='valid_accuracy', orient='h', palette='viridis', linewidth=0.5, width=0.5)\n",
    "plt.grid()\n",
    "plt.title('validation accuracy')\n",
    "plt.show()"
   ]
  },
  {
   "cell_type": "markdown",
   "metadata": {},
   "source": [
    "# テストデータの作成と予測"
   ]
  },
  {
   "cell_type": "markdown",
   "metadata": {},
   "source": [
    "### Word2Vec"
   ]
  },
  {
   "cell_type": "code",
   "execution_count": 218,
   "metadata": {},
   "outputs": [
    {
     "data": {
      "text/plain": [
       "(20, 200)"
      ]
     },
     "execution_count": 218,
     "metadata": {},
     "output_type": "execute_result"
    }
   ],
   "source": [
    "corpus = [analyzer(hanrei_test[\"data\"][i]) for i in range(len(hanrei_test[\"data\"]))]\n",
    "word2vecs = Word2Vec(\n",
    "    sentences=corpus, iter=epoch_num, size=features_num,\n",
    "    min_count=min_word_count, window=context, sample=downsampling,\n",
    ")\n",
    "avg_word2vec = np.array([word2vecs.wv[list(analyzer(hanrei_test[\"data\"][i]) & word2vecs.wv.vocab.keys())].mean(axis=0) for i in range(len(hanrei_test[\"data\"]))])\n",
    "avg_word2vec.shape"
   ]
  },
  {
   "cell_type": "code",
   "execution_count": 219,
   "metadata": {},
   "outputs": [
    {
     "data": {
      "text/plain": [
       "(20, 2)"
      ]
     },
     "execution_count": 219,
     "metadata": {},
     "output_type": "execute_result"
    }
   ],
   "source": [
    "tsne_avg_word2vec = manifold.TSNE(n_components=2).fit_transform(avg_word2vec)\n",
    "tsne_avg_word2vec.shape"
   ]
  },
  {
   "cell_type": "code",
   "execution_count": 220,
   "metadata": {},
   "outputs": [
    {
     "data": {
      "image/png": "[encoded data removed]",
      "text/plain": [
       "<Figure size 504x360 with 2 Axes>"
      ]
     },
     "metadata": {
      "needs_background": "light"
     },
     "output_type": "display_data"
    }
   ],
   "source": [
    "df_tsne_avg_word2vec = pd.DataFrame({\n",
    "    'x': tsne_avg_word2vec[:, 0],\n",
    "    'y': tsne_avg_word2vec[:, 1],\n",
    "    'category': hanrei_test[\"target\"],\n",
    "})\n",
    " \n",
    "df_tsne_avg_word2vec.plot.scatter(x='x', y='y', c='category', colormap='viridis', figsize=(7, 5), s=20)\n",
    "plt.show()"
   ]
  },
  {
   "cell_type": "markdown",
   "metadata": {},
   "source": [
    "### SCDV"
   ]
  },
  {
   "cell_type": "code",
   "execution_count": 221,
   "metadata": {},
   "outputs": [
    {
     "data": {
      "text/plain": [
       "GaussianMixture(covariance_type='tied', init_params='kmeans', max_iter=50,\n",
       "        means_init=None, n_components=60, n_init=1, precisions_init=None,\n",
       "        random_state=None, reg_covar=1e-06, tol=0.001, verbose=0,\n",
       "        verbose_interval=10, warm_start=False, weights_init=None)"
      ]
     },
     "execution_count": 221,
     "metadata": {},
     "output_type": "execute_result"
    }
   ],
   "source": [
    "word_vectors = word2vecs.wv.vectors\n",
    "clusters_num = 60\n",
    "gmm = mixture.GaussianMixture(n_components=clusters_num, covariance_type='tied', max_iter=50)\n",
    "gmm.fit(word_vectors)"
   ]
  },
  {
   "cell_type": "code",
   "execution_count": 222,
   "metadata": {},
   "outputs": [],
   "source": [
    "idf_dic = dict(zip(tfidf_vectorizer.get_feature_names(), tfidf_vectorizer._tfidf.idf_))\n",
    "assign_dic = dict(zip(word2vecs.wv.index2word, gmm.predict(word_vectors)))\n",
    "soft_assign_dic = dict(zip(word2vecs.wv.index2word, gmm.predict_proba(word_vectors)))\n",
    " \n",
    "word_topic_vecs = {}\n",
    "for word in assign_dic:\n",
    "    word_topic_vecs[word] = np.zeros(features_num*clusters_num, dtype=np.float32)\n",
    "    for i in range(0, clusters_num):\n",
    "        try:\n",
    "            word_topic_vecs[word][i*features_num:(i+1)*features_num] = word2vecs.wv[word]*soft_assign_dic[word][i]*idf_dic[word]\n",
    "        except:\n",
    "            continue"
   ]
  },
  {
   "cell_type": "code",
   "execution_count": 223,
   "metadata": {},
   "outputs": [
    {
     "data": {
      "text/plain": [
       "(20, 12000)"
      ]
     },
     "execution_count": 223,
     "metadata": {},
     "output_type": "execute_result"
    }
   ],
   "source": [
    "scdvs_test = np.zeros((len(hanrei_test[\"data\"]), clusters_num*features_num), dtype=np.float32)\n",
    " \n",
    "a_min = 0\n",
    "a_max = 0\n",
    " \n",
    "for i in range(len(hanrei_test[\"data\"])):\n",
    "    text = hanrei_test[\"data\"][i]\n",
    "    tmp = np.zeros(clusters_num*features_num, dtype=np.float32)\n",
    "    words = analyzer(text)\n",
    "    for word in words:\n",
    "        if word in word_topic_vecs:\n",
    "            tmp += word_topic_vecs[word]\n",
    "    norm = np.sqrt(np.sum(tmp**2))\n",
    "    if norm > 0:\n",
    "        tmp /= norm\n",
    "    a_min += min(tmp)\n",
    "    a_max += max(tmp)\n",
    "    scdvs_test[i] = tmp\n",
    "\n",
    "p = 0.04\n",
    "a_min = a_min*1.0 / len(hanrei_test[\"data\"])\n",
    "a_max = a_max*1.0 / len(hanrei_test[\"data\"])\n",
    "thres = (abs(a_min)+abs(a_max)) / 2\n",
    "thres *= p\n",
    " \n",
    "scdvs_test[abs(scdvs_test) < thres] = 0\n",
    "scdvs_test.shape # (2800, 12000)"
   ]
  },
  {
   "cell_type": "code",
   "execution_count": 224,
   "metadata": {},
   "outputs": [
    {
     "data": {
      "text/plain": [
       "(20, 2)"
      ]
     },
     "execution_count": 224,
     "metadata": {},
     "output_type": "execute_result"
    }
   ],
   "source": [
    "tsne_scdv_test = manifold.TSNE(n_components=2).fit_transform(scdvs_test)\n",
    "tsne_scdv_test.shape # (2800, 2)"
   ]
  },
  {
   "cell_type": "code",
   "execution_count": 225,
   "metadata": {},
   "outputs": [
    {
     "data": {
      "image/png": "[encoded data removed]",
      "text/plain": [
       "<Figure size 504x360 with 2 Axes>"
      ]
     },
     "metadata": {
      "needs_background": "light"
     },
     "output_type": "display_data"
    }
   ],
   "source": [
    "df_tsne_scdv_test = pd.DataFrame({\n",
    "    'x': tsne_scdv_test[:, 0],\n",
    "    'y': tsne_scdv_test[:, 1],\n",
    "    'category': hanrei_test[\"target\"],\n",
    "})\n",
    " \n",
    "df_tsne_scdv_test.plot.scatter(x='x', y='y', c='category', colormap='viridis', figsize=(7, 5), s=20)\n",
    "plt.show()"
   ]
  },
  {
   "cell_type": "code",
   "execution_count": 226,
   "metadata": {},
   "outputs": [
    {
     "name": "stdout",
     "output_type": "stream",
     "text": [
      "[0]\tvalidation_0-logloss:0.625614\tvalidation_1-logloss:0.684096\n",
      "[1]\tvalidation_0-logloss:0.56863\tvalidation_1-logloss:0.676906\n",
      "[2]\tvalidation_0-logloss:0.529119\tvalidation_1-logloss:0.661287\n",
      "[3]\tvalidation_0-logloss:0.485129\tvalidation_1-logloss:0.656362\n"
     ]
    }
   ],
   "source": [
    "import xgboost as xgb\n",
    "\n",
    "param_dist = {'objective':'binary:logistic', 'n_estimators':4}\n",
    "\n",
    "clf = xgb.XGBClassifier(**param_dist)\n",
    "\n",
    "X_train = scdvs\n",
    "y_train = hanrei_train[\"target\"]\n",
    "X_test = scdvs_test\n",
    "y_test = hanrei_test[\"target\"]\n",
    "\n",
    "clf.fit(X_train, y_train,\n",
    "        eval_set=[(X_train, y_train), (X_test, y_test)],\n",
    "        eval_metric='logloss',\n",
    "        verbose=True)\n",
    "\n",
    "evals_result = clf.evals_result()"
   ]
  },
  {
   "cell_type": "code",
   "execution_count": 227,
   "metadata": {},
   "outputs": [
    {
     "name": "stdout",
     "output_type": "stream",
     "text": [
      "[[3 7]\n",
      " [2 8]]\n",
      "             precision    recall  f1-score   support\n",
      "\n",
      "          0       0.60      0.30      0.40        10\n",
      "          1       0.53      0.80      0.64        10\n",
      "\n",
      "avg / total       0.57      0.55      0.52        20\n",
      "\n"
     ]
    }
   ],
   "source": [
    "from sklearn.metrics import confusion_matrix, classification_report\n",
    "pred = clf.predict(X_test)\n",
    "print(confusion_matrix(y_test, pred))\n",
    "print(classification_report(y_test, pred))"
   ]
  },
  {
   "cell_type": "code",
   "execution_count": 228,
   "metadata": {},
   "outputs": [
    {
     "data": {
      "text/plain": [
       "array([0, 0, 1, 1, 1, 0, 1, 1, 1, 1, 1, 1, 1, 0, 0, 1, 1, 1, 1, 1])"
      ]
     },
     "execution_count": 228,
     "metadata": {},
     "output_type": "execute_result"
    }
   ],
   "source": [
    "pred"
   ]
  },
  {
   "cell_type": "code",
   "execution_count": 229,
   "metadata": {},
   "outputs": [
    {
     "data": {
      "text/plain": [
       "[0, 0, 0, 0, 0, 0, 0, 0, 0, 0, 1, 1, 1, 1, 1, 1, 1, 1, 1, 1]"
      ]
     },
     "execution_count": 229,
     "metadata": {},
     "output_type": "execute_result"
    }
   ],
   "source": [
    "y_test"
   ]
  }
 ],
 "metadata": {
  "kernelspec": {
   "display_name": "Python 3",
   "language": "python",
   "name": "python3"
  },
  "language_info": {
   "codemirror_mode": {
    "name": "ipython",
    "version": 3
   },
   "file_extension": ".py",
   "mimetype": "text/x-python",
   "name": "python",
   "nbconvert_exporter": "python",
   "pygments_lexer": "ipython3",
   "version": "3.7.0"
  }
 },
 "nbformat": 4,
 "nbformat_minor": 2
}
